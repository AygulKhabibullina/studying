{
  "cells": [
    {
      "cell_type": "markdown",
      "source": [
        "Оригинальный код: https://www.kaggle.com/anokas/simple-xgboost-starter-0-0655"
      ],
      "metadata": {
        "id": "KxtBz4ef5dWC"
      }
    },
    {
      "cell_type": "code",
      "source": [
        "from google.colab import drive\n",
        "drive.mount('/content/drive')"
      ],
      "metadata": {
        "colab": {
          "base_uri": "https://localhost:8080/"
        },
        "id": "Qr935Ng_mN9s",
        "outputId": "ead4f522-c6db-4127-ec61-589bac20b71f"
      },
      "execution_count": 1,
      "outputs": [
        {
          "output_type": "stream",
          "name": "stdout",
          "text": [
            "Mounted at /content/drive\n"
          ]
        }
      ]
    },
    {
      "cell_type": "code",
      "execution_count": 2,
      "metadata": {
        "id": "DQsDWQTTofEy"
      },
      "outputs": [],
      "source": [
        "import numpy as np\n",
        "import pandas as pd\n",
        "import xgboost as xgb\n",
        "import gc"
      ]
    },
    {
      "cell_type": "code",
      "execution_count": 4,
      "metadata": {
        "id": "Ri72-e9fofE7",
        "outputId": "756a813f-1fca-4a85-d7a7-7bf7c9af533f",
        "colab": {
          "base_uri": "https://localhost:8080/"
        }
      },
      "outputs": [
        {
          "output_type": "stream",
          "name": "stdout",
          "text": [
            "Загрузка данных ...\n"
          ]
        },
        {
          "output_type": "stream",
          "name": "stderr",
          "text": [
            "/usr/local/lib/python3.7/dist-packages/IPython/core/interactiveshell.py:2718: DtypeWarning: Columns (22,32,34,49,55) have mixed types.Specify dtype option on import or set low_memory=False.\n",
            "  interactivity=interactivity, compiler=compiler, result=result)\n"
          ]
        }
      ],
      "source": [
        "print('Загрузка данных ...')\n",
        "\n",
        "train = pd.read_csv('drive/MyDrive/zillow-prize-1/train_2016_v2.csv')\n",
        "prop = pd.read_csv('drive/MyDrive/zillow-prize-1/properties_2016.csv')\n",
        "sample = pd.read_csv('drive/MyDrive/zillow-prize-1/sample_submission.csv')"
      ]
    },
    {
      "cell_type": "code",
      "execution_count": 5,
      "metadata": {
        "id": "dmDMtcLfofFB",
        "outputId": "fc65af0f-61e3-4fc3-d19c-255c7c431ea1",
        "colab": {
          "base_uri": "https://localhost:8080/"
        }
      },
      "outputs": [
        {
          "output_type": "stream",
          "name": "stdout",
          "text": [
            "Binding to float32\n"
          ]
        }
      ],
      "source": [
        "# Приведение к типу float32\n",
        "print('Binding to float32')\n",
        "\n",
        "for c, dtype in zip(prop.columns, prop.dtypes):\n",
        "    if dtype == np.float64:\n",
        "        prop[c] = prop[c].astype(np.float32)"
      ]
    },
    {
      "cell_type": "code",
      "execution_count": 6,
      "metadata": {
        "colab": {
          "base_uri": "https://localhost:8080/"
        },
        "id": "gH0jx8AEofFD",
        "outputId": "f84daf61-323b-4b50-d3cf-c93e523dea5e"
      },
      "outputs": [
        {
          "output_type": "stream",
          "name": "stdout",
          "text": [
            "Создание обучающего набора данных ...\n",
            "(90275, 55) (90275,)\n"
          ]
        }
      ],
      "source": [
        "print('Создание обучающего набора данных ...')\n",
        "\n",
        "#Объединение таблиц train и properties\n",
        "df_train = train.merge(prop, how='left', on='parcelid')\n",
        "\n",
        "#Удаление столбцов\n",
        "x_train = df_train.drop(['parcelid', 'logerror', 'transactiondate', 'propertyzoningdesc', 'propertycountylandusecode'], axis=1)\n",
        "\n",
        "#Записать значения logerror в y_train\n",
        "y_train = df_train['logerror'].values\n",
        "print(x_train.shape, y_train.shape)\n",
        "\n",
        "#Записать столбцы из x_train\n",
        "train_columns = x_train.columns\n",
        "\n",
        "for c in x_train.dtypes[x_train.dtypes == object].index.values:\n",
        "    x_train[c] = (x_train[c] == True)\n",
        "\n",
        "del df_train; gc.collect()\n",
        "\n",
        "#Поделить данные по 80000 значению\n",
        "split = 80000\n",
        "x_train, y_train, x_valid, y_valid = x_train[:split], y_train[:split], x_train[split:], y_train[split:]"
      ]
    },
    {
      "cell_type": "code",
      "execution_count": 7,
      "metadata": {
        "id": "Wf1tEHnvofFF",
        "outputId": "b65baacc-5806-4607-88af-32cc148a7006",
        "colab": {
          "base_uri": "https://localhost:8080/"
        }
      },
      "outputs": [
        {
          "output_type": "stream",
          "name": "stdout",
          "text": [
            "Построение DMatrix...\n"
          ]
        },
        {
          "output_type": "execute_result",
          "data": {
            "text/plain": [
              "278"
            ]
          },
          "metadata": {},
          "execution_count": 7
        }
      ],
      "source": [
        "print('Построение DMatrix...')\n",
        "\n",
        "#Перевод в формат DMatrix\n",
        "d_train = xgb.DMatrix(x_train, label=y_train)\n",
        "d_valid = xgb.DMatrix(x_valid, label=y_valid)\n",
        "\n",
        "del x_train, x_valid; gc.collect()"
      ]
    },
    {
      "cell_type": "code",
      "execution_count": 8,
      "metadata": {
        "id": "gko5BO-5ofFG",
        "outputId": "aa7de4ef-ceaf-4fd6-f976-dcd3d3102793",
        "colab": {
          "base_uri": "https://localhost:8080/"
        }
      },
      "outputs": [
        {
          "output_type": "stream",
          "name": "stdout",
          "text": [
            "Обучение ...\n",
            "[0]\ttrain-mae:0.48808\tvalid-mae:0.481119\n",
            "Multiple eval metrics have been passed: 'valid-mae' will be used for early stopping.\n",
            "\n",
            "Will train until valid-mae hasn't improved in 100 rounds.\n",
            "[10]\ttrain-mae:0.402199\tvalid-mae:0.395444\n",
            "[20]\ttrain-mae:0.332673\tvalid-mae:0.326099\n",
            "[30]\ttrain-mae:0.276517\tvalid-mae:0.270132\n",
            "[40]\ttrain-mae:0.231317\tvalid-mae:0.225214\n",
            "[50]\ttrain-mae:0.195064\tvalid-mae:0.189327\n",
            "[60]\ttrain-mae:0.166123\tvalid-mae:0.160725\n",
            "[70]\ttrain-mae:0.143115\tvalid-mae:0.13805\n",
            "[80]\ttrain-mae:0.124972\tvalid-mae:0.120241\n",
            "[90]\ttrain-mae:0.110785\tvalid-mae:0.106352\n",
            "[100]\ttrain-mae:0.099816\tvalid-mae:0.095695\n",
            "[110]\ttrain-mae:0.091452\tvalid-mae:0.087611\n",
            "[120]\ttrain-mae:0.085137\tvalid-mae:0.081602\n",
            "[130]\ttrain-mae:0.080447\tvalid-mae:0.077224\n",
            "[140]\ttrain-mae:0.077012\tvalid-mae:0.074089\n",
            "[150]\ttrain-mae:0.074499\tvalid-mae:0.07184\n",
            "[160]\ttrain-mae:0.072682\tvalid-mae:0.070257\n",
            "[170]\ttrain-mae:0.071361\tvalid-mae:0.069146\n",
            "[180]\ttrain-mae:0.070406\tvalid-mae:0.068383\n",
            "[190]\ttrain-mae:0.06971\tvalid-mae:0.067882\n",
            "[200]\ttrain-mae:0.0692\tvalid-mae:0.067532\n",
            "[210]\ttrain-mae:0.068821\tvalid-mae:0.067292\n",
            "[220]\ttrain-mae:0.068541\tvalid-mae:0.067139\n",
            "[230]\ttrain-mae:0.068328\tvalid-mae:0.067037\n",
            "[240]\ttrain-mae:0.068161\tvalid-mae:0.066967\n",
            "[250]\ttrain-mae:0.068034\tvalid-mae:0.066927\n",
            "[260]\ttrain-mae:0.067932\tvalid-mae:0.066906\n",
            "[270]\ttrain-mae:0.067852\tvalid-mae:0.066887\n",
            "[280]\ttrain-mae:0.067791\tvalid-mae:0.066882\n",
            "[290]\ttrain-mae:0.067737\tvalid-mae:0.066876\n",
            "[300]\ttrain-mae:0.06769\tvalid-mae:0.066874\n",
            "[310]\ttrain-mae:0.067649\tvalid-mae:0.066877\n",
            "[320]\ttrain-mae:0.067618\tvalid-mae:0.066878\n",
            "[330]\ttrain-mae:0.067589\tvalid-mae:0.066885\n",
            "[340]\ttrain-mae:0.067561\tvalid-mae:0.066893\n",
            "[350]\ttrain-mae:0.06754\tvalid-mae:0.066894\n",
            "[360]\ttrain-mae:0.067521\tvalid-mae:0.066906\n",
            "[370]\ttrain-mae:0.067501\tvalid-mae:0.066915\n",
            "[380]\ttrain-mae:0.067484\tvalid-mae:0.066919\n",
            "[390]\ttrain-mae:0.067467\tvalid-mae:0.066926\n",
            "Stopping. Best iteration:\n",
            "[298]\ttrain-mae:0.0677\tvalid-mae:0.066873\n",
            "\n"
          ]
        }
      ],
      "source": [
        "print('Обучение ...')\n",
        "\n",
        "#Задание парметров модели\n",
        "params = {}\n",
        "params['eta'] = 0.02\n",
        "  #Использование линейной регрессии\n",
        "params['objective'] = 'reg:linear'\n",
        "  #mae Средеяя абсолютная ошибка\n",
        "params['eval_metric'] = 'mae'\n",
        "  #Максимальная глубина дерева\n",
        "params['max_depth'] = 4\n",
        "  #Уровень вывода ссобщений\n",
        "params['silent'] = 1\n",
        "\n",
        "watchlist = [(d_train, 'train'), (d_valid, 'valid')]\n",
        "#early_stopping_rounds - если через 100 кругов результат не будет улучшаться, выполнение остановится\n",
        "#10000 - максимальный размер итераций\n",
        "clf = xgb.train(params, d_train, 10000, watchlist, early_stopping_rounds=100, verbose_eval=10)\n",
        "\n",
        "del d_train, d_valid"
      ]
    },
    {
      "cell_type": "code",
      "execution_count": 9,
      "metadata": {
        "id": "1lPppNvIofFI",
        "outputId": "0fe2ab7f-e364-476d-d66f-276967a82e00",
        "colab": {
          "base_uri": "https://localhost:8080/"
        }
      },
      "outputs": [
        {
          "output_type": "stream",
          "name": "stdout",
          "text": [
            "Создание тестового набора данных ...\n"
          ]
        },
        {
          "output_type": "stream",
          "name": "stderr",
          "text": [
            "/usr/local/lib/python3.7/dist-packages/ipykernel_launcher.py:10: SettingWithCopyWarning: \n",
            "A value is trying to be set on a copy of a slice from a DataFrame.\n",
            "Try using .loc[row_indexer,col_indexer] = value instead\n",
            "\n",
            "See the caveats in the documentation: https://pandas.pydata.org/pandas-docs/stable/user_guide/indexing.html#returning-a-view-versus-a-copy\n",
            "  # Remove the CWD from sys.path while we load stuff.\n"
          ]
        },
        {
          "output_type": "execute_result",
          "data": {
            "text/plain": [
              "2"
            ]
          },
          "metadata": {},
          "execution_count": 9
        }
      ],
      "source": [
        "print('Создание тестового набора данных ...')\n",
        "#Объединение таблиц\n",
        "sample['parcelid'] = sample['ParcelId']\n",
        "df_test = sample.merge(prop, on='parcelid', how='left')\n",
        "\n",
        "del prop; gc.collect()\n",
        "\n",
        "x_test = df_test[train_columns]\n",
        "for c in x_test.dtypes[x_test.dtypes == object].index.values:\n",
        "    x_test[c] = (x_test[c] == True)\n",
        "\n",
        "del df_test, sample; gc.collect()\n",
        "\n",
        "d_test = xgb.DMatrix(x_test)\n",
        "\n",
        "del x_test; gc.collect()"
      ]
    },
    {
      "cell_type": "code",
      "execution_count": 10,
      "metadata": {
        "id": "HpVhHrP9ofFJ",
        "outputId": "17a8ae2e-4389-4cb9-903e-d617987fa538",
        "colab": {
          "base_uri": "https://localhost:8080/"
        }
      },
      "outputs": [
        {
          "output_type": "stream",
          "name": "stdout",
          "text": [
            "Прогнозирование на тестовых данных ...\n"
          ]
        }
      ],
      "source": [
        "print('Прогнозирование на тестовых данных ...')\n",
        "#Предсказание на d_test\n",
        "p_test = clf.predict(d_test)\n",
        "\n",
        "del d_test; gc.collect()\n",
        "\n",
        "sub = pd.read_csv('drive/MyDrive/zillow-prize-1/sample_submission.csv')\n",
        "for c in sub.columns[sub.columns != 'ParcelId']:\n",
        "    sub[c] = p_test"
      ]
    },
    {
      "cell_type": "code",
      "execution_count": 11,
      "metadata": {
        "id": "qOduN2KXofFL",
        "outputId": "9edee70f-8aac-414d-c657-da88373da622",
        "colab": {
          "base_uri": "https://localhost:8080/"
        }
      },
      "outputs": [
        {
          "output_type": "stream",
          "name": "stdout",
          "text": [
            "Запись csv ...\n"
          ]
        }
      ],
      "source": [
        "print('Запись csv ...')\n",
        "sub.to_csv('xgb_starter.csv', index=False, float_format='%.4f') # Thanks to @inversion"
      ]
    },
    {
      "cell_type": "code",
      "execution_count": null,
      "metadata": {
        "id": "MEDB-Y9WofFN"
      },
      "outputs": [],
      "source": [
        ""
      ]
    }
  ],
  "metadata": {
    "kernelspec": {
      "display_name": "Python 3",
      "language": "python",
      "name": "python3"
    },
    "language_info": {
      "codemirror_mode": {
        "name": "ipython",
        "version": 3
      },
      "file_extension": ".py",
      "mimetype": "text/x-python",
      "name": "python",
      "nbconvert_exporter": "python",
      "pygments_lexer": "ipython3",
      "version": "3.7.4"
    },
    "colab": {
      "name": "XGBoost model.ipynb",
      "provenance": []
    }
  },
  "nbformat": 4,
  "nbformat_minor": 0
}