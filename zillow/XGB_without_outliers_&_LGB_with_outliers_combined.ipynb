{
  "cells": [
    {
      "cell_type": "code",
      "source": [
        "from google.colab import drive\n",
        "drive.mount('/content/drive')"
      ],
      "metadata": {
        "colab": {
          "base_uri": "https://localhost:8080/"
        },
        "id": "mgHIvFUdo5Li",
        "outputId": "a0b4b350-dd82-4587-bc70-fa79604070f8"
      },
      "execution_count": 4,
      "outputs": [
        {
          "output_type": "stream",
          "name": "stdout",
          "text": [
            "Mounted at /content/drive\n"
          ]
        }
      ]
    },
    {
      "cell_type": "code",
      "execution_count": 5,
      "metadata": {
        "id": "7fzeVaTCLLcZ"
      },
      "outputs": [],
      "source": [
        "import numpy as np\n",
        "import pandas as pd\n",
        "import xgboost as xgb\n",
        "from sklearn.preprocessing import LabelEncoder\n",
        "import lightgbm as lgb\n",
        "import gc"
      ]
    },
    {
      "cell_type": "code",
      "execution_count": 6,
      "metadata": {
        "id": "zQ6FjfoeLLcf"
      },
      "outputs": [],
      "source": [
        "# Параметры\n",
        "XGB_WEIGHT = 0.6500\n",
        "BASELINE_WEIGHT = 0.0056\n",
        "\n",
        "BASELINE_PRED = 0.0115"
      ]
    },
    {
      "cell_type": "code",
      "execution_count": 7,
      "metadata": {
        "colab": {
          "base_uri": "https://localhost:8080/"
        },
        "id": "9q2RB2OYLLcg",
        "outputId": "ca15cdc0-add1-424a-d3ac-5a1e219ae356"
      },
      "outputs": [
        {
          "output_type": "stream",
          "name": "stdout",
          "text": [
            "\n",
            "Чтение данных ...\n"
          ]
        },
        {
          "output_type": "stream",
          "name": "stderr",
          "text": [
            "/usr/local/lib/python3.7/dist-packages/IPython/core/interactiveshell.py:2718: DtypeWarning: Columns (22,32,34,49,55) have mixed types.Specify dtype option on import or set low_memory=False.\n",
            "  interactivity=interactivity, compiler=compiler, result=result)\n"
          ]
        }
      ],
      "source": [
        "print( \"\\nЧтение данных ...\")\n",
        "prop = pd.read_csv('drive/MyDrive/zillow-prize-1/properties_2016.csv')\n",
        "train = pd.read_csv('drive/MyDrive/zillow-prize-1/train_2016_v2.csv')"
      ]
    },
    {
      "cell_type": "code",
      "execution_count": 8,
      "metadata": {
        "colab": {
          "base_uri": "https://localhost:8080/"
        },
        "id": "2wLigx9HLLch",
        "outputId": "4045bfc1-c049-469e-eb15-e0658681dd42"
      },
      "outputs": [
        {
          "output_type": "stream",
          "name": "stdout",
          "text": [
            "\n",
            "Обработка данных для LightGBM ...\n",
            "(90275, 53) (90275,)\n"
          ]
        }
      ],
      "source": [
        "print( \"\\nОбработка данных для LightGBM ...\" )\n",
        "for c, dtype in zip(prop.columns, prop.dtypes):\t\n",
        "    if dtype == np.float64:\t\t\n",
        "        prop[c] = prop[c].astype(np.float32)\n",
        "\n",
        "#Объединение таблиц\n",
        "df_train = train.merge(prop, how='left', on='parcelid')\n",
        "# Заполение с помощью медианного значения\n",
        "df_train.fillna(df_train.median(),inplace = True)\n",
        "\n",
        "#Удаление столбцов\n",
        "x_train = df_train.drop(['parcelid', 'logerror', 'transactiondate', 'propertyzoningdesc', \n",
        "                         'propertycountylandusecode', 'fireplacecnt', 'fireplaceflag'], axis=1)\n",
        "y_train = df_train['logerror'].values\n",
        "print(x_train.shape, y_train.shape)\n",
        "\n",
        "\n",
        "train_columns = x_train.columns\n",
        "\n",
        "for c in x_train.dtypes[x_train.dtypes == object].index.values:\n",
        "    x_train[c] = (x_train[c] == True)\n",
        "\n",
        "del df_train; gc.collect()\n",
        "\n",
        "x_train = x_train.values.astype(np.float32, copy=False)\n",
        "# Создание датасета для LightGBM с данными x_train и названиями из y_train\n",
        "d_train = lgb.Dataset(x_train, label=y_train)"
      ]
    },
    {
      "cell_type": "code",
      "execution_count": 9,
      "metadata": {
        "id": "Qkn6fbX4LLci"
      },
      "outputs": [],
      "source": [
        "#Задание парметров модели\n",
        "params = {}\n",
        "params['max_bin'] = 10\n",
        "params['learning_rate'] = 0.0021 # shrinkage_rate\n",
        "params['boosting_type'] = 'gbdt'\n",
        "params['objective'] = 'regression'\n",
        "params['metric'] = 'l1'          # or 'mae'\n",
        "params['sub_feature'] = 0.5      # feature_fraction -- OK, back to .5, but maybe later increase this\n",
        "params['bagging_fraction'] = 0.85 # sub_row\n",
        "params['bagging_freq'] = 40\n",
        "params['num_leaves'] = 512        # num_leaf\n",
        "params['min_data'] = 500         # min_data_in_leaf\n",
        "params['min_hessian'] = 0.05     # min_sum_hessian_in_leaf\n",
        "params['verbose'] = 0"
      ]
    },
    {
      "cell_type": "code",
      "execution_count": 10,
      "metadata": {
        "colab": {
          "base_uri": "https://localhost:8080/"
        },
        "id": "AEDIYFo_LLci",
        "outputId": "8f1ac3c6-5e2b-4828-8ffe-08d06883f3b4"
      },
      "outputs": [
        {
          "output_type": "stream",
          "name": "stdout",
          "text": [
            "\n",
            "Обучение модели LightGBM ...\n"
          ]
        },
        {
          "output_type": "execute_result",
          "data": {
            "text/plain": [
              "0"
            ]
          },
          "metadata": {},
          "execution_count": 10
        }
      ],
      "source": [
        "print(\"\\nОбучение модели LightGBM ...\")\n",
        "#Обучение модели с укаанием количества итераций бустинга\n",
        "clf = lgb.train(params, d_train, 430)\n",
        "\n",
        "del d_train; gc.collect()\n",
        "del x_train; gc.collect()"
      ]
    },
    {
      "cell_type": "code",
      "execution_count": 11,
      "metadata": {
        "colab": {
          "base_uri": "https://localhost:8080/"
        },
        "id": "b5HjvwqoLLcj",
        "outputId": "2bbc5c8e-26e0-4171-f399-29780d44458a"
      },
      "outputs": [
        {
          "output_type": "stream",
          "name": "stdout",
          "text": [
            "\n",
            "Подготовка для предсказания ...\n",
            "   Чтение файла ...\n",
            "   ...\n",
            "   Объединенение с таблицей property ...\n",
            "   ...\n",
            "   ...\n",
            "   ...\n",
            "   Подготовка x_test...\n"
          ]
        },
        {
          "output_type": "stream",
          "name": "stderr",
          "text": [
            "/usr/local/lib/python3.7/dist-packages/ipykernel_launcher.py:17: SettingWithCopyWarning: \n",
            "A value is trying to be set on a copy of a slice from a DataFrame.\n",
            "Try using .loc[row_indexer,col_indexer] = value instead\n",
            "\n",
            "See the caveats in the documentation: https://pandas.pydata.org/pandas-docs/stable/user_guide/indexing.html#returning-a-view-versus-a-copy\n"
          ]
        },
        {
          "output_type": "stream",
          "name": "stdout",
          "text": [
            "   ...\n"
          ]
        }
      ],
      "source": [
        "print(\"\\nПодготовка для предсказания ...\")\n",
        "print(\"   Чтение файла ...\")\n",
        "sample = pd.read_csv('drive/MyDrive/zillow-prize-1/sample_submission.csv')\n",
        "print(\"   ...\")\n",
        "sample['parcelid'] = sample['ParcelId']\n",
        "print(\"   Объединенение с таблицей property ...\")\n",
        "#Объединение таблиц\n",
        "df_test = sample.merge(prop, on='parcelid', how='left')\n",
        "print(\"   ...\")\n",
        "del sample, prop; gc.collect()\n",
        "print(\"   ...\")\n",
        "x_test = df_test[train_columns]\n",
        "print(\"   ...\")\n",
        "del df_test; gc.collect()\n",
        "print(\"   Подготовка x_test...\")\n",
        "for c in x_test.dtypes[x_test.dtypes == object].index.values:\n",
        "    x_test[c] = (x_test[c] == True)\n",
        "print(\"   ...\")\n",
        "x_test = x_test.values.astype(np.float32, copy=False)"
      ]
    },
    {
      "cell_type": "code",
      "execution_count": 12,
      "metadata": {
        "colab": {
          "base_uri": "https://localhost:8080/"
        },
        "id": "ngWQuhbfLLck",
        "outputId": "7b5e58ab-935c-470b-844d-84220ab9b8e5"
      },
      "outputs": [
        {
          "output_type": "stream",
          "name": "stdout",
          "text": [
            "\n",
            "LightGBM предсказание ...\n"
          ]
        },
        {
          "output_type": "execute_result",
          "data": {
            "text/plain": [
              "144"
            ]
          },
          "metadata": {},
          "execution_count": 12
        }
      ],
      "source": [
        "print(\"\\nLightGBM предсказание ...\")\n",
        "# num_threads > 1 will predict very slow in kernal\n",
        "# \n",
        "clf.reset_parameter({\"num_threads\":1})\n",
        "p_test = clf.predict(x_test)\n",
        "\n",
        "del x_test; gc.collect()"
      ]
    },
    {
      "cell_type": "code",
      "execution_count": 13,
      "metadata": {
        "colab": {
          "base_uri": "https://localhost:8080/"
        },
        "id": "-zXRXjOWLLcl",
        "outputId": "bc4cf117-f060-45ef-b5ce-9491e36dc939"
      },
      "outputs": [
        {
          "output_type": "stream",
          "name": "stdout",
          "text": [
            "\n",
            "Нескорекктированные прогнозы LightGBM:\n",
            "          0\n",
            "0  0.035296\n",
            "1  0.038122\n",
            "2  0.010894\n",
            "3  0.008950\n",
            "4  0.008910\n"
          ]
        }
      ],
      "source": [
        "print( \"\\nНескорекктированные прогнозы LightGBM:\" )\n",
        "print( pd.DataFrame(p_test).head() )"
      ]
    },
    {
      "cell_type": "code",
      "execution_count": 14,
      "metadata": {
        "colab": {
          "base_uri": "https://localhost:8080/"
        },
        "id": "LhwST6koLLcm",
        "outputId": "e42283a8-9392-414a-8f44-67dda1aaff38"
      },
      "outputs": [
        {
          "output_type": "stream",
          "name": "stdout",
          "text": [
            "\n",
            "Re-reading properties file ...\n"
          ]
        },
        {
          "output_type": "stream",
          "name": "stderr",
          "text": [
            "/usr/local/lib/python3.7/dist-packages/IPython/core/interactiveshell.py:2718: DtypeWarning: Columns (22,32,34,49,55) have mixed types.Specify dtype option on import or set low_memory=False.\n",
            "  interactivity=interactivity, compiler=compiler, result=result)\n"
          ]
        }
      ],
      "source": [
        "print( \"\\nRe-reading properties file ...\")\n",
        "properties = pd.read_csv('drive/MyDrive/zillow-prize-1/properties_2016.csv')"
      ]
    },
    {
      "cell_type": "code",
      "execution_count": 15,
      "metadata": {
        "colab": {
          "base_uri": "https://localhost:8080/"
        },
        "id": "E0k41k4fLLcn",
        "outputId": "c6a94bee-3e37-41ef-e1a5-e79cf1094031"
      },
      "outputs": [
        {
          "output_type": "stream",
          "name": "stdout",
          "text": [
            "\n",
            "Processing data for XGBoost ...\n",
            "Shape train: (90275, 57)\n",
            "Shape test: (2985217, 57)\n"
          ]
        }
      ],
      "source": [
        "##### Обработка данных для XGBOOST\n",
        "\n",
        "print( \"\\nProcessing data for XGBoost ...\")\n",
        "for c in properties.columns:\n",
        "    properties[c]=properties[c].fillna(-1)\n",
        "    if properties[c].dtype == 'object':\n",
        "#LabelEncoder присваиваtn порядковые номера категориальным данным \n",
        "        lbl = LabelEncoder()\n",
        "        lbl.fit(list(properties[c].values))\n",
        "        properties[c] = lbl.transform(list(properties[c].values))\n",
        "\n",
        "train_df = train.merge(properties, how='left', on='parcelid')\n",
        "x_train = train_df.drop(['parcelid', 'logerror','transactiondate'], axis=1)\n",
        "x_test = properties.drop(['parcelid'], axis=1)\n",
        "# Размер\n",
        "print('Shape train: {}\\nShape test: {}'.format(x_train.shape, x_test.shape))"
      ]
    },
    {
      "cell_type": "code",
      "execution_count": 16,
      "metadata": {
        "colab": {
          "base_uri": "https://localhost:8080/"
        },
        "id": "nwIHTCQ9LLco",
        "outputId": "257b8728-4fdc-447a-88ab-0dbb3d581bce"
      },
      "outputs": [
        {
          "output_type": "stream",
          "name": "stdout",
          "text": [
            "After removing outliers:\n",
            "Shape train: (88525, 57)\n",
            "Shape test: (2985217, 57)\n"
          ]
        }
      ],
      "source": [
        "# Удалить лишнее\n",
        "train_df=train_df[ train_df.logerror > -0.4 ]\n",
        "train_df=train_df[ train_df.logerror < 0.418 ]\n",
        "x_train=train_df.drop(['parcelid', 'logerror','transactiondate'], axis=1)\n",
        "y_train = train_df[\"logerror\"].values.astype(np.float32)\n",
        "y_mean = np.mean(y_train)\n",
        "\n",
        "print('After removing outliers:')     \n",
        "print('Shape train: {}\\nShape test: {}'.format(x_train.shape, x_test.shape))"
      ]
    },
    {
      "cell_type": "code",
      "execution_count": 17,
      "metadata": {
        "colab": {
          "base_uri": "https://localhost:8080/"
        },
        "id": "ZBxFRg2wLLcp",
        "outputId": "d9b49d6f-13e3-45e3-bff0-b46a377316eb"
      },
      "outputs": [
        {
          "output_type": "stream",
          "name": "stdout",
          "text": [
            "\n",
            "Setting up data for XGBoost ...\n"
          ]
        }
      ],
      "source": [
        "##### Запустить XGBOOST\n",
        "\n",
        "print(\"\\nSetting up data for XGBoost ...\")\n",
        "# xgboost параметры\n",
        "xgb_params = {\n",
        "    'eta': 0.037,\n",
        "    'max_depth': 5,\n",
        "    'subsample': 0.80,\n",
        "    'objective': 'reg:linear',\n",
        "    'eval_metric': 'mae',\n",
        "    'lambda': 0.8,   \n",
        "    'alpha': 0.4, \n",
        "    'base_score': y_mean,\n",
        "    'silent': 1\n",
        "}"
      ]
    },
    {
      "cell_type": "code",
      "execution_count": 18,
      "metadata": {
        "id": "w1GtcCBvLLcq"
      },
      "outputs": [],
      "source": [
        "dtrain = xgb.DMatrix(x_train, y_train)\n",
        "dtest = xgb.DMatrix(x_test)"
      ]
    },
    {
      "cell_type": "code",
      "execution_count": 19,
      "metadata": {
        "colab": {
          "base_uri": "https://localhost:8080/"
        },
        "id": "j69gcJS9LLcq",
        "outputId": "850f5491-be2b-47a5-8e69-a65af744fdfc"
      },
      "outputs": [
        {
          "output_type": "stream",
          "name": "stdout",
          "text": [
            "\n",
            "XGBoost tuned with CV in:\n",
            "   https://www.kaggle.com/aharless/xgboost-without-outliers-tweak \n",
            "num_boost_rounds=242\n"
          ]
        }
      ],
      "source": [
        "num_boost_rounds = 242\n",
        "print(\"\\nXGBoost tuned with CV in:\")\n",
        "print(\"   https://www.kaggle.com/aharless/xgboost-without-outliers-tweak \")\n",
        "print(\"num_boost_rounds=\"+str(num_boost_rounds))\n"
      ]
    },
    {
      "cell_type": "code",
      "execution_count": 20,
      "metadata": {
        "colab": {
          "base_uri": "https://localhost:8080/"
        },
        "id": "2TnchwMDLLcr",
        "outputId": "32c8007a-bc18-48eb-ba75-268458933919"
      },
      "outputs": [
        {
          "output_type": "stream",
          "name": "stdout",
          "text": [
            "\n",
            "Обучение XGBoost ...\n"
          ]
        }
      ],
      "source": [
        "# Обучени модели\n",
        "print( \"\\nОбучение XGBoost ...\")\n",
        "model = xgb.train(dict(xgb_params, silent=1), dtrain, num_boost_round=num_boost_rounds)"
      ]
    },
    {
      "cell_type": "code",
      "execution_count": 21,
      "metadata": {
        "colab": {
          "base_uri": "https://localhost:8080/"
        },
        "id": "WwiKkmxJLLcr",
        "outputId": "908f7e0f-8b64-4e2b-9c2e-42322d96ed70"
      },
      "outputs": [
        {
          "output_type": "stream",
          "name": "stdout",
          "text": [
            "\n",
            "Прогноз с XGBoost ...\n"
          ]
        }
      ],
      "source": [
        "print( \"\\nПрогноз с XGBoost ...\")\n",
        "xgb_pred = model.predict(dtest)"
      ]
    },
    {
      "cell_type": "code",
      "execution_count": 22,
      "metadata": {
        "colab": {
          "base_uri": "https://localhost:8080/"
        },
        "id": "6D-X9bo-LLcs",
        "outputId": "9ac73c3d-971a-44ea-fcbc-01249772301f"
      },
      "outputs": [
        {
          "output_type": "stream",
          "name": "stdout",
          "text": [
            "\n",
            "XGBoost предсказания:\n",
            "          0\n",
            "0 -0.040072\n",
            "1 -0.026636\n",
            "2  0.018891\n",
            "3  0.063797\n",
            "4 -0.002863\n"
          ]
        }
      ],
      "source": [
        "print( \"\\nXGBoost предсказания:\" )\n",
        "print( pd.DataFrame(xgb_pred).head() )"
      ]
    },
    {
      "cell_type": "code",
      "execution_count": 23,
      "metadata": {
        "colab": {
          "base_uri": "https://localhost:8080/"
        },
        "id": "y7OQVIQ8LLcs",
        "outputId": "23179531-e6ea-49da-9f76-809f9eeb9074"
      },
      "outputs": [
        {
          "output_type": "stream",
          "name": "stdout",
          "text": [
            "\n",
            "Объединение XGBoost, LightGBM, и baseline predicitons ...\n",
            "\n",
            "Объединенное прогнозирование:\n",
            "          0\n",
            "0 -0.013827\n",
            "1 -0.004120\n",
            "2  0.016095\n",
            "3  0.044615\n",
            "4  0.001272\n"
          ]
        }
      ],
      "source": [
        "##### Объединение предсказаний\n",
        "\n",
        "print( \"\\nОбъединение XGBoost, LightGBM, и baseline predicitons ...\" )\n",
        "lgb_weight = 1 - XGB_WEIGHT - BASELINE_WEIGHT\n",
        "pred = XGB_WEIGHT*xgb_pred + BASELINE_WEIGHT*BASELINE_PRED + lgb_weight*p_test\n",
        "\n",
        "print( \"\\nОбъединенное прогнозирование:\" )\n",
        "print( pd.DataFrame(pred).head() )\n"
      ]
    },
    {
      "cell_type": "code",
      "execution_count": 24,
      "metadata": {
        "colab": {
          "base_uri": "https://localhost:8080/"
        },
        "id": "FSCEUg0ALLct",
        "outputId": "bfd91fac-ac5c-43b9-bd43-eebe6a848077"
      },
      "outputs": [
        {
          "output_type": "stream",
          "name": "stdout",
          "text": [
            "\n",
            "Подготовка результатов...\n",
            "\n",
            "Зпись результатов ...\n",
            "\n",
            "Завершено...\n"
          ]
        }
      ],
      "source": [
        "##### Запись результатов\n",
        "\n",
        "print( \"\\nПодготовка результатов...\" )\n",
        "y_pred=[]\n",
        "\n",
        "for i,predict in enumerate(pred):\n",
        "    y_pred.append(str(round(predict,4)))\n",
        "y_pred=np.array(y_pred)\n",
        "\n",
        "output = pd.DataFrame({'ParcelId': properties['parcelid'].astype(np.int32),\n",
        "        '201610': y_pred, '201611': y_pred, '201612': y_pred,\n",
        "        '201710': y_pred, '201711': y_pred, '201712': y_pred})\n",
        "# Переместить 'ParceID' в первый столбец\n",
        "cols = output.columns.tolist()\n",
        "cols = cols[-1:] + cols[:-1]\n",
        "output = output[cols]\n",
        "from datetime import datetime\n",
        "\n",
        "print( \"\\nЗапись результатов ...\" )\n",
        "output.to_csv('sub{}.csv'.format(datetime.now().strftime('%Y%m%d_%H%M%S')), index=False)\n",
        "\n",
        "print( \"\\nЗавершено...\" )"
      ]
    },
    {
      "cell_type": "code",
      "execution_count": 5,
      "metadata": {
        "id": "ePNibhtrLLct"
      },
      "outputs": [],
      "source": [
        ""
      ]
    }
  ],
  "metadata": {
    "kernelspec": {
      "display_name": "Python 3",
      "language": "python",
      "name": "python3"
    },
    "language_info": {
      "codemirror_mode": {
        "name": "ipython",
        "version": 3
      },
      "file_extension": ".py",
      "mimetype": "text/x-python",
      "name": "python",
      "nbconvert_exporter": "python",
      "pygments_lexer": "ipython3",
      "version": "3.7.4"
    },
    "colab": {
      "name": "XGB without outliers & LGB with outliers combined.ipynb",
      "provenance": []
    }
  },
  "nbformat": 4,
  "nbformat_minor": 0
}